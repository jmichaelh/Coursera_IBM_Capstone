{
    "cells": [
        {
            "cell_type": "markdown",
            "metadata": {},
            "source": "#### Install and Import Libraries"
        },
        {
            "cell_type": "code",
            "execution_count": 5,
            "metadata": {},
            "outputs": [
                {
                    "name": "stdout",
                    "output_type": "stream",
                    "text": "Finished importing libraries.\n"
                }
            ],
            "source": "import numpy as np \nimport pandas as pd \npd.set_option('display.max_columns', None)\npd.set_option('display.max_rows', None)\nimport json \n#!pip install bs4\nfrom bs4 import BeautifulSoup\nimport bs4 as bs\nimport urllib.request\nimport pandas as pd \n#!pip install --upgrade pip\n#!pip install geopy\n\n#!pip install geocoder\n#!pip install folium\n#!sudo pip3 install bs4\n#!sudo pip3 install --upgrade html5lib\n#!sudo pip3 install --upgrade --force-reinstall bs4\n#!sudo pip3 install --upgrade beautifulsoup4\n#!sudo pip3 install --upgrade html5lib\n\nfrom geopy.geocoders import Nominatim \nimport geocoder\nimport requests \nimport lxml.html as lh\n\nfrom bs4 import BeautifulSoup\nfrom pandas.io.json import json_normalize \n\nimport matplotlib.cm as cm\nimport matplotlib.colors as colors\n\nfrom sklearn.cluster import KMeans\n\nimport folium\nprint('Finished importing libraries.')"
        },
        {
            "cell_type": "markdown",
            "metadata": {},
            "source": "#### Pull and Parse data from website into Beautiful Soup, create a list of nieghborhoods in Atlanta GA"
        },
        {
            "cell_type": "code",
            "execution_count": 6,
            "metadata": {},
            "outputs": [
                {
                    "data": {
                        "text/plain": "bs4.BeautifulSoup"
                    },
                    "execution_count": 6,
                    "metadata": {},
                    "output_type": "execute_result"
                }
            ],
            "source": "#!pip install bs4\nimport requests\nfrom bs4 import BeautifulSoup\nimport bs4 as bs\nimport urllib.request\nimport pandas as pd \n\ndata = requests.get('https://en.wikipedia.org/wiki/Arrondissements_of_Paris')\nsrc = data.content\nhtml_soup = BeautifulSoup(src, 'html.parser')\ntype(html_soup)\n"
        },
        {
            "cell_type": "code",
            "execution_count": 8,
            "metadata": {},
            "outputs": [
                {
                    "name": "stdout",
                    "output_type": "stream",
                    "text": "                              Arrondissement of Paris  \\\n0                                             Country   \n1                                              Region   \n2                                          Department   \n3                                             Cantons   \n4                                            Communes   \n5                                          Pr\u00e9fecture   \n6                                               Area\u00b9   \n7                                             \u2022\u00a0Total   \n8                                   Population\u00a0(2009)   \n9                                             \u2022\u00a0Total   \n10                                          \u2022\u00a0Density   \n11  \u00b9 French Land Registry data, which exclude lak...   \n\n                            Arrondissement of Paris.1  \n0                                              France  \n1                                       \u00cele-de-France  \n2                                               Paris  \n3                                                  20  \n4                                                   1  \n5                                               Paris  \n6                                               Area\u00b9  \n7                                  105\u00a0km2 (41\u00a0sq\u00a0mi)  \n8                                   Population\u00a0(2009)  \n9                                             2234105  \n10                          21,000/km2 (55,000/sq\u00a0mi)  \n11  \u00b9 French Land Registry data, which exclude lak...  \n                          0\n0  Arrondissements of Paris\n   Arrondissement (R for Right Bank, L for Left Bank)                 Name  \\\n0                                         1st (Ier) R               Louvre   \n1                                         2nd (IIe) R               Bourse   \n2                                        3rd (IIIe) R               Temple   \n3                                         4th (IVe) R       H\u00f4tel-de-Ville   \n4                                          5th (Ve) L             Panth\u00e9on   \n5                                         6th (VIe) L           Luxembourg   \n6                                        7th (VIIe) L       Palais-Bourbon   \n7                                       8th (VIIIe) R               \u00c9lys\u00e9e   \n8                                         9th (IXe) R                Op\u00e9ra   \n9                                         10th (Xe) R             Entrep\u00f4t   \n10                                       11th (XIe) R           Popincourt   \n11                                      12th (XIIe) R              Reuilly   \n12                                     13th (XIIIe) L             Gobelins   \n13                                      14th (XIVe) L         Observatoire   \n14                                       15th (XVe) L            Vaugirard   \n15                                      16th (XVIe) R                Passy   \n16                                     17th (XVIIe) R  Batignolles-Monceau   \n17                                    18th (XVIIIe) R     Butte-Montmartre   \n18                                      19th (XIXe) R      Buttes-Chaumont   \n19                                       20th (XXe) R         M\u00e9nilmontant   \n\n                                           Area (km2)  \\\n0                             1.826\u00a0km2 (0.705\u00a0sq\u00a0mi)   \n1                             0.992\u00a0km2 (0.383\u00a0sq\u00a0mi)   \n2                             1.171\u00a0km2 (0.452\u00a0sq\u00a0mi)   \n3                             1.601\u00a0km2 (0.618\u00a0sq\u00a0mi)   \n4                             2.541\u00a0km2 (0.981\u00a0sq\u00a0mi)   \n5                             2.154\u00a0km2 (0.832\u00a0sq\u00a0mi)   \n6                             4.088\u00a0km2 (1.578\u00a0sq\u00a0mi)   \n7                             3.881\u00a0km2 (1.498\u00a0sq\u00a0mi)   \n8                             2.179\u00a0km2 (0.841\u00a0sq\u00a0mi)   \n9                             2.892\u00a0km2 (1.117\u00a0sq\u00a0mi)   \n10                            3.666\u00a0km2 (1.415\u00a0sq\u00a0mi)   \n11  16.324\u00a0km2 (6.303\u00a0sq\u00a0mi)\u00b96.377\u00a0km2 (2.462\u00a0sq\u00a0mi)\u00b2   \n12                            7.146\u00a0km2 (2.759\u00a0sq\u00a0mi)   \n13                            5.621\u00a0km2 (2.170\u00a0sq\u00a0mi)   \n14                            8.502\u00a0km2 (3.283\u00a0sq\u00a0mi)   \n15  16.305\u00a0km2 (6.295\u00a0sq\u00a0mi)\u00b37.846\u00a0km2 (3.029\u00a0sq\u00a0mi)4   \n16                            5.669\u00a0km2 (2.189\u00a0sq\u00a0mi)   \n17                            6.005\u00a0km2 (2.319\u00a0sq\u00a0mi)   \n18                            6.786\u00a0km2 (2.620\u00a0sq\u00a0mi)   \n19                            5.984\u00a0km2 (2.310\u00a0sq\u00a0mi)   \n\n    Population(March 1999 census)  Population(July 2005 estimate)  \\\n0                           16888                           17700   \n1                           19585                           20700   \n2                           34248                           35100   \n3                           30675                           28600   \n4                           58849                           60600   \n5                           44919                           45200   \n6                           56985                           55400   \n7                           39314                           38700   \n8                           55838                           58500   \n9                           89612                           88800   \n10                         149102                          152500   \n11                         136591                          138300   \n12                         171533                          181300   \n13                         132844                          134700   \n14                         225362                          232400   \n15                         161773                          149500   \n16                         160860                          160300   \n17                         184586                          188700   \n18                         172730                          187200   \n19                         182952                          191800   \n\n   Density (2005)(inhabitants per km2) Peak of population  \\\n0                                 9693        before 1861   \n1                                20867        before 1861   \n2                                29974        before 1861   \n3                                17864        before 1861   \n4                                23849               1911   \n5                                20984               1911   \n6                                13552               1926   \n7                                 9972               1891   \n8                                26847               1901   \n9                                30705               1881   \n10                               41598               1911   \n11                       8,472\u00b921,687\u00b2               1962   \n12                               25371              20055   \n13                               23964               1954   \n14                               27335               1962   \n15                       9,169\u00b319,0544               1962   \n16                               28277               1954   \n17                               31424               1931   \n18                               27586              20055   \n19                               32052               1936   \n\n                           Mayor  \n0     Jean-Fran\u00e7ois Legaret (LR)  \n1        Jacques Boutault (EELV)  \n2          Pierre Aidenbaum (PS)  \n3                Ariel Weil (PS)  \n4         Florence Berthout (LR)  \n5         Jean-Pierre Lecoq (LR)  \n6              Rachida Dati (LR)  \n7       Jeanne d'Hauteserre (LR)  \n8           Delphine B\u00fcrkli (LR)  \n9       Alexandra Cordebard (PS)  \n10         Fran\u00e7ois Vauglin (PS)  \n11  Catherine Baratti-Elbaz (PS)  \n12            J\u00e9r\u00f4me Coumet (PS)  \n13             Carine Petit (PS)  \n14          Philippe Goujon (LR)  \n15           Dani\u00e8le Giazzi (LR)  \n16         Geoffroy Boulard (LR)  \n17           \u00c9ric Lejoindre (PS)  \n18         Fran\u00e7ois Dagnaud (PS)  \n19      Fr\u00e9d\u00e9rique Calandra (PS)  \n    Unnamed: 0  Arrondissement   Arrondissement's Mayor  \\\n0          NaN               1    Jean-Fran\u00e7ois Legaret   \n1          NaN               2         Jacques Boutault   \n2          NaN               3         Pierre Aidenbaum   \n3          NaN               4               Ariel Weil   \n4          NaN               5        Florence Berthout   \n5          NaN               6        Jean-Pierre Lecoq   \n6          NaN               7             Rachida Dati   \n7          NaN               8      Jeanne d'Hauteserre   \n8          NaN               9          Delphine B\u00fcrkli   \n9          NaN              10              R\u00e9mi F\u00e9raud   \n10         NaN              11         Fran\u00e7ois Vauglin   \n11         NaN              12  Catherine Baratti-Elbaz   \n12         NaN              13            J\u00e9r\u00f4me Coumet   \n13         NaN              14             Carine Petit   \n14         NaN              15          Philippe Goujon   \n15         NaN              16           Dani\u00e8le Giazzi   \n16         NaN              17          Brigitte Kuster   \n17         NaN              18           Eric Lejoindre   \n18         NaN              19         Fran\u00e7ois Dagnaud   \n19         NaN              20      Fr\u00e9d\u00e9rique Calandra   \n\n    Arrondissement's Mayor.1 Political party  \\\n0                        NaN             UMP   \n1                        NaN            EELV   \n2                        NaN              PS   \n3                        NaN              PS   \n4                        NaN             UMP   \n5                        NaN             UMP   \n6                        NaN             UMP   \n7                        NaN             UMP   \n8                        NaN             UMP   \n9                        NaN              PS   \n10                       NaN              PS   \n11                       NaN              PS   \n12                       NaN              PS   \n13                       NaN              PS   \n14                       NaN             UMP   \n15                       NaN              LR   \n16                       NaN             UMP   \n17                       NaN              PS   \n18                       NaN              PS   \n19                       NaN              PS   \n\n                                              Notes  \n0                                               NaN  \n1                                               NaN  \n2                                               NaN  \n3   Succeeded to Christophe Girard in November 2017  \n4                                               NaN  \n5                                               NaN  \n6                                   European Deputy  \n7                                               NaN  \n8                                               NaN  \n9                                               NaN  \n10                                  Deputy of Paris  \n11                                              NaN  \n12                                              NaN  \n13                                              NaN  \n14                                  Deputy of Paris  \n15                                  Deputy of Paris  \n16       Member of \u00cele-de-France's Regional Council  \n17                                              NaN  \n18                                              NaN  \n19                                              NaN  \n         vte Arrondissements of France by department  \\\n0  01 Ain 02 Aisne 03 Allier 04 Alpes-de-Haute-Pr...   \n\n       vte Arrondissements of France by department.1  \n0  01 Ain 02 Aisne 03 Allier 04 Alpes-de-Haute-Pr...  \n                                    vteCity of Paris  \\\n0  Arrondissements 1st 2nd 3rd 4th 5th 6th 7th 8t...   \n1  Airports Charles de Gaulle Orly Architecture B...   \n2  Grand Paris Paris metropolitan area \u00cele-de-Fra...   \n\n                                  vteCity of Paris.1  \\\n0  Arrondissements 1st 2nd 3rd 4th 5th 6th 7th 8t...   \n1  Airports Charles de Gaulle Orly Architecture B...   \n2  Grand Paris Paris metropolitan area \u00cele-de-Fra...   \n\n                                  vteCity of Paris.2  \n0  Arrondissements 1st 2nd 3rd 4th 5th 6th 7th 8t...  \n1                                                NaN  \n2  Grand Paris Paris metropolitan area \u00cele-de-Fra...  \n"
                }
            ],
            "source": "dfs = pd.read_html('https://en.wikipedia.org/wiki/Arrondissements_of_Paris')\nfor df in dfs:\n    print(df)"
        },
        {
            "cell_type": "code",
            "execution_count": 10,
            "metadata": {},
            "outputs": [
                {
                    "data": {
                        "text/html": "<div>\n<style scoped>\n    .dataframe tbody tr th:only-of-type {\n        vertical-align: middle;\n    }\n\n    .dataframe tbody tr th {\n        vertical-align: top;\n    }\n\n    .dataframe thead th {\n        text-align: right;\n    }\n</style>\n<table border=\"1\" class=\"dataframe\">\n  <thead>\n    <tr style=\"text-align: right;\">\n      <th></th>\n      <th>Arrondissement (R for Right Bank, L for Left Bank)</th>\n      <th>Name</th>\n      <th>Area (km2)</th>\n      <th>Population(March 1999 census)</th>\n      <th>Population(July 2005 estimate)</th>\n      <th>Density (2005)(inhabitants per km2)</th>\n      <th>Peak of population</th>\n      <th>Mayor</th>\n    </tr>\n  </thead>\n  <tbody>\n    <tr>\n      <th>0</th>\n      <td>1st (Ier) R</td>\n      <td>Louvre</td>\n      <td>1.826\u00a0km2 (0.705\u00a0sq\u00a0mi)</td>\n      <td>16888</td>\n      <td>17700</td>\n      <td>9693</td>\n      <td>before 1861</td>\n      <td>Jean-Fran\u00e7ois Legaret (LR)</td>\n    </tr>\n    <tr>\n      <th>1</th>\n      <td>2nd (IIe) R</td>\n      <td>Bourse</td>\n      <td>0.992\u00a0km2 (0.383\u00a0sq\u00a0mi)</td>\n      <td>19585</td>\n      <td>20700</td>\n      <td>20867</td>\n      <td>before 1861</td>\n      <td>Jacques Boutault (EELV)</td>\n    </tr>\n    <tr>\n      <th>2</th>\n      <td>3rd (IIIe) R</td>\n      <td>Temple</td>\n      <td>1.171\u00a0km2 (0.452\u00a0sq\u00a0mi)</td>\n      <td>34248</td>\n      <td>35100</td>\n      <td>29974</td>\n      <td>before 1861</td>\n      <td>Pierre Aidenbaum (PS)</td>\n    </tr>\n    <tr>\n      <th>3</th>\n      <td>4th (IVe) R</td>\n      <td>H\u00f4tel-de-Ville</td>\n      <td>1.601\u00a0km2 (0.618\u00a0sq\u00a0mi)</td>\n      <td>30675</td>\n      <td>28600</td>\n      <td>17864</td>\n      <td>before 1861</td>\n      <td>Ariel Weil (PS)</td>\n    </tr>\n    <tr>\n      <th>4</th>\n      <td>5th (Ve) L</td>\n      <td>Panth\u00e9on</td>\n      <td>2.541\u00a0km2 (0.981\u00a0sq\u00a0mi)</td>\n      <td>58849</td>\n      <td>60600</td>\n      <td>23849</td>\n      <td>1911</td>\n      <td>Florence Berthout (LR)</td>\n    </tr>\n    <tr>\n      <th>5</th>\n      <td>6th (VIe) L</td>\n      <td>Luxembourg</td>\n      <td>2.154\u00a0km2 (0.832\u00a0sq\u00a0mi)</td>\n      <td>44919</td>\n      <td>45200</td>\n      <td>20984</td>\n      <td>1911</td>\n      <td>Jean-Pierre Lecoq (LR)</td>\n    </tr>\n    <tr>\n      <th>6</th>\n      <td>7th (VIIe) L</td>\n      <td>Palais-Bourbon</td>\n      <td>4.088\u00a0km2 (1.578\u00a0sq\u00a0mi)</td>\n      <td>56985</td>\n      <td>55400</td>\n      <td>13552</td>\n      <td>1926</td>\n      <td>Rachida Dati (LR)</td>\n    </tr>\n    <tr>\n      <th>7</th>\n      <td>8th (VIIIe) R</td>\n      <td>\u00c9lys\u00e9e</td>\n      <td>3.881\u00a0km2 (1.498\u00a0sq\u00a0mi)</td>\n      <td>39314</td>\n      <td>38700</td>\n      <td>9972</td>\n      <td>1891</td>\n      <td>Jeanne d'Hauteserre (LR)</td>\n    </tr>\n    <tr>\n      <th>8</th>\n      <td>9th (IXe) R</td>\n      <td>Op\u00e9ra</td>\n      <td>2.179\u00a0km2 (0.841\u00a0sq\u00a0mi)</td>\n      <td>55838</td>\n      <td>58500</td>\n      <td>26847</td>\n      <td>1901</td>\n      <td>Delphine B\u00fcrkli (LR)</td>\n    </tr>\n    <tr>\n      <th>9</th>\n      <td>10th (Xe) R</td>\n      <td>Entrep\u00f4t</td>\n      <td>2.892\u00a0km2 (1.117\u00a0sq\u00a0mi)</td>\n      <td>89612</td>\n      <td>88800</td>\n      <td>30705</td>\n      <td>1881</td>\n      <td>Alexandra Cordebard (PS)</td>\n    </tr>\n    <tr>\n      <th>10</th>\n      <td>11th (XIe) R</td>\n      <td>Popincourt</td>\n      <td>3.666\u00a0km2 (1.415\u00a0sq\u00a0mi)</td>\n      <td>149102</td>\n      <td>152500</td>\n      <td>41598</td>\n      <td>1911</td>\n      <td>Fran\u00e7ois Vauglin (PS)</td>\n    </tr>\n    <tr>\n      <th>11</th>\n      <td>12th (XIIe) R</td>\n      <td>Reuilly</td>\n      <td>16.324\u00a0km2 (6.303\u00a0sq\u00a0mi)\u00b96.377\u00a0km2 (2.462\u00a0sq\u00a0mi)\u00b2</td>\n      <td>136591</td>\n      <td>138300</td>\n      <td>8,472\u00b921,687\u00b2</td>\n      <td>1962</td>\n      <td>Catherine Baratti-Elbaz (PS)</td>\n    </tr>\n    <tr>\n      <th>12</th>\n      <td>13th (XIIIe) L</td>\n      <td>Gobelins</td>\n      <td>7.146\u00a0km2 (2.759\u00a0sq\u00a0mi)</td>\n      <td>171533</td>\n      <td>181300</td>\n      <td>25371</td>\n      <td>20055</td>\n      <td>J\u00e9r\u00f4me Coumet (PS)</td>\n    </tr>\n    <tr>\n      <th>13</th>\n      <td>14th (XIVe) L</td>\n      <td>Observatoire</td>\n      <td>5.621\u00a0km2 (2.170\u00a0sq\u00a0mi)</td>\n      <td>132844</td>\n      <td>134700</td>\n      <td>23964</td>\n      <td>1954</td>\n      <td>Carine Petit (PS)</td>\n    </tr>\n    <tr>\n      <th>14</th>\n      <td>15th (XVe) L</td>\n      <td>Vaugirard</td>\n      <td>8.502\u00a0km2 (3.283\u00a0sq\u00a0mi)</td>\n      <td>225362</td>\n      <td>232400</td>\n      <td>27335</td>\n      <td>1962</td>\n      <td>Philippe Goujon (LR)</td>\n    </tr>\n    <tr>\n      <th>15</th>\n      <td>16th (XVIe) R</td>\n      <td>Passy</td>\n      <td>16.305\u00a0km2 (6.295\u00a0sq\u00a0mi)\u00b37.846\u00a0km2 (3.029\u00a0sq\u00a0mi)4</td>\n      <td>161773</td>\n      <td>149500</td>\n      <td>9,169\u00b319,0544</td>\n      <td>1962</td>\n      <td>Dani\u00e8le Giazzi (LR)</td>\n    </tr>\n    <tr>\n      <th>16</th>\n      <td>17th (XVIIe) R</td>\n      <td>Batignolles-Monceau</td>\n      <td>5.669\u00a0km2 (2.189\u00a0sq\u00a0mi)</td>\n      <td>160860</td>\n      <td>160300</td>\n      <td>28277</td>\n      <td>1954</td>\n      <td>Geoffroy Boulard (LR)</td>\n    </tr>\n    <tr>\n      <th>17</th>\n      <td>18th (XVIIIe) R</td>\n      <td>Butte-Montmartre</td>\n      <td>6.005\u00a0km2 (2.319\u00a0sq\u00a0mi)</td>\n      <td>184586</td>\n      <td>188700</td>\n      <td>31424</td>\n      <td>1931</td>\n      <td>\u00c9ric Lejoindre (PS)</td>\n    </tr>\n    <tr>\n      <th>18</th>\n      <td>19th (XIXe) R</td>\n      <td>Buttes-Chaumont</td>\n      <td>6.786\u00a0km2 (2.620\u00a0sq\u00a0mi)</td>\n      <td>172730</td>\n      <td>187200</td>\n      <td>27586</td>\n      <td>20055</td>\n      <td>Fran\u00e7ois Dagnaud (PS)</td>\n    </tr>\n    <tr>\n      <th>19</th>\n      <td>20th (XXe) R</td>\n      <td>M\u00e9nilmontant</td>\n      <td>5.984\u00a0km2 (2.310\u00a0sq\u00a0mi)</td>\n      <td>182952</td>\n      <td>191800</td>\n      <td>32052</td>\n      <td>1936</td>\n      <td>Fr\u00e9d\u00e9rique Calandra (PS)</td>\n    </tr>\n  </tbody>\n</table>\n</div>",
                        "text/plain": "   Arrondissement (R for Right Bank, L for Left Bank)                 Name  \\\n0                                         1st (Ier) R               Louvre   \n1                                         2nd (IIe) R               Bourse   \n2                                        3rd (IIIe) R               Temple   \n3                                         4th (IVe) R       H\u00f4tel-de-Ville   \n4                                          5th (Ve) L             Panth\u00e9on   \n5                                         6th (VIe) L           Luxembourg   \n6                                        7th (VIIe) L       Palais-Bourbon   \n7                                       8th (VIIIe) R               \u00c9lys\u00e9e   \n8                                         9th (IXe) R                Op\u00e9ra   \n9                                         10th (Xe) R             Entrep\u00f4t   \n10                                       11th (XIe) R           Popincourt   \n11                                      12th (XIIe) R              Reuilly   \n12                                     13th (XIIIe) L             Gobelins   \n13                                      14th (XIVe) L         Observatoire   \n14                                       15th (XVe) L            Vaugirard   \n15                                      16th (XVIe) R                Passy   \n16                                     17th (XVIIe) R  Batignolles-Monceau   \n17                                    18th (XVIIIe) R     Butte-Montmartre   \n18                                      19th (XIXe) R      Buttes-Chaumont   \n19                                       20th (XXe) R         M\u00e9nilmontant   \n\n                                           Area (km2)  \\\n0                             1.826\u00a0km2 (0.705\u00a0sq\u00a0mi)   \n1                             0.992\u00a0km2 (0.383\u00a0sq\u00a0mi)   \n2                             1.171\u00a0km2 (0.452\u00a0sq\u00a0mi)   \n3                             1.601\u00a0km2 (0.618\u00a0sq\u00a0mi)   \n4                             2.541\u00a0km2 (0.981\u00a0sq\u00a0mi)   \n5                             2.154\u00a0km2 (0.832\u00a0sq\u00a0mi)   \n6                             4.088\u00a0km2 (1.578\u00a0sq\u00a0mi)   \n7                             3.881\u00a0km2 (1.498\u00a0sq\u00a0mi)   \n8                             2.179\u00a0km2 (0.841\u00a0sq\u00a0mi)   \n9                             2.892\u00a0km2 (1.117\u00a0sq\u00a0mi)   \n10                            3.666\u00a0km2 (1.415\u00a0sq\u00a0mi)   \n11  16.324\u00a0km2 (6.303\u00a0sq\u00a0mi)\u00b96.377\u00a0km2 (2.462\u00a0sq\u00a0mi)\u00b2   \n12                            7.146\u00a0km2 (2.759\u00a0sq\u00a0mi)   \n13                            5.621\u00a0km2 (2.170\u00a0sq\u00a0mi)   \n14                            8.502\u00a0km2 (3.283\u00a0sq\u00a0mi)   \n15  16.305\u00a0km2 (6.295\u00a0sq\u00a0mi)\u00b37.846\u00a0km2 (3.029\u00a0sq\u00a0mi)4   \n16                            5.669\u00a0km2 (2.189\u00a0sq\u00a0mi)   \n17                            6.005\u00a0km2 (2.319\u00a0sq\u00a0mi)   \n18                            6.786\u00a0km2 (2.620\u00a0sq\u00a0mi)   \n19                            5.984\u00a0km2 (2.310\u00a0sq\u00a0mi)   \n\n    Population(March 1999 census)  Population(July 2005 estimate)  \\\n0                           16888                           17700   \n1                           19585                           20700   \n2                           34248                           35100   \n3                           30675                           28600   \n4                           58849                           60600   \n5                           44919                           45200   \n6                           56985                           55400   \n7                           39314                           38700   \n8                           55838                           58500   \n9                           89612                           88800   \n10                         149102                          152500   \n11                         136591                          138300   \n12                         171533                          181300   \n13                         132844                          134700   \n14                         225362                          232400   \n15                         161773                          149500   \n16                         160860                          160300   \n17                         184586                          188700   \n18                         172730                          187200   \n19                         182952                          191800   \n\n   Density (2005)(inhabitants per km2) Peak of population  \\\n0                                 9693        before 1861   \n1                                20867        before 1861   \n2                                29974        before 1861   \n3                                17864        before 1861   \n4                                23849               1911   \n5                                20984               1911   \n6                                13552               1926   \n7                                 9972               1891   \n8                                26847               1901   \n9                                30705               1881   \n10                               41598               1911   \n11                       8,472\u00b921,687\u00b2               1962   \n12                               25371              20055   \n13                               23964               1954   \n14                               27335               1962   \n15                       9,169\u00b319,0544               1962   \n16                               28277               1954   \n17                               31424               1931   \n18                               27586              20055   \n19                               32052               1936   \n\n                           Mayor  \n0     Jean-Fran\u00e7ois Legaret (LR)  \n1        Jacques Boutault (EELV)  \n2          Pierre Aidenbaum (PS)  \n3                Ariel Weil (PS)  \n4         Florence Berthout (LR)  \n5         Jean-Pierre Lecoq (LR)  \n6              Rachida Dati (LR)  \n7       Jeanne d'Hauteserre (LR)  \n8           Delphine B\u00fcrkli (LR)  \n9       Alexandra Cordebard (PS)  \n10         Fran\u00e7ois Vauglin (PS)  \n11  Catherine Baratti-Elbaz (PS)  \n12            J\u00e9r\u00f4me Coumet (PS)  \n13             Carine Petit (PS)  \n14          Philippe Goujon (LR)  \n15           Dani\u00e8le Giazzi (LR)  \n16         Geoffroy Boulard (LR)  \n17           \u00c9ric Lejoindre (PS)  \n18         Fran\u00e7ois Dagnaud (PS)  \n19      Fr\u00e9d\u00e9rique Calandra (PS)  "
                    },
                    "execution_count": 10,
                    "metadata": {},
                    "output_type": "execute_result"
                }
            ],
            "source": "paris = pd.DataFrame(dfs[2])\nparis"
        },
        {
            "cell_type": "code",
            "execution_count": null,
            "metadata": {},
            "outputs": [],
            "source": ""
        },
        {
            "cell_type": "code",
            "execution_count": null,
            "metadata": {},
            "outputs": [],
            "source": "paris = pd.DataFrame(dfs[2])\ncolumn_names = ['Arrondissement', 'Name', 'Area', 'Population 1999', 'Population 2005', 'Density', 'Population Peak', 'Mayor']\npf = pd.DataFrame(column_names)\nparis.columns = [column_names]\nparis"
        },
        {
            "cell_type": "code",
            "execution_count": null,
            "metadata": {},
            "outputs": [],
            "source": "ArrondissementList == paris['Name']\nArrondissement = 'Name'"
        },
        {
            "cell_type": "markdown",
            "metadata": {},
            "source": "#### Use geocoder to add longitude and latitude to the Atlanta Neighborhood DataFrame"
        },
        {
            "cell_type": "code",
            "execution_count": null,
            "metadata": {},
            "outputs": [],
            "source": "def get_latlng(Arrondissement):\n    lat_lng_coords = None\n    \n    while(lat_lng_coords is None):\n        g = geocoder.arcgis('{}, Paris, FR'.format(Arrondissement))\n        lat_lng_coords = g.latlng\n    return lat_lng_coords"
        },
        {
            "cell_type": "code",
            "execution_count": null,
            "metadata": {},
            "outputs": [],
            "source": "coords = [ get_latlng(Arrondissement) for name in paris['Name'].values.tolist() ]\ncoords = get_latlng(paris['Name'])"
        },
        {
            "cell_type": "code",
            "execution_count": null,
            "metadata": {},
            "outputs": [],
            "source": "coords[10]"
        },
        {
            "cell_type": "code",
            "execution_count": 15,
            "metadata": {},
            "outputs": [
                {
                    "ename": "NameError",
                    "evalue": "name 'coords' is not defined",
                    "output_type": "error",
                    "traceback": [
                        "\u001b[0;31m---------------------------------------------------------------------------\u001b[0m",
                        "\u001b[0;31mNameError\u001b[0m                                 Traceback (most recent call last)",
                        "\u001b[0;32m<ipython-input-15-58bae440275e>\u001b[0m in \u001b[0;36m<module>\u001b[0;34m\u001b[0m\n\u001b[0;32m----> 1\u001b[0;31m \u001b[0mcoords\u001b[0m\u001b[0;34m[\u001b[0m\u001b[0;34m-\u001b[0m\u001b[0;36m10\u001b[0m\u001b[0;34m]\u001b[0m\u001b[0;34m\u001b[0m\u001b[0;34m\u001b[0m\u001b[0m\n\u001b[0m",
                        "\u001b[0;31mNameError\u001b[0m: name 'coords' is not defined"
                    ]
                }
            ],
            "source": "coords[-10]"
        },
        {
            "cell_type": "code",
            "execution_count": null,
            "metadata": {},
            "outputs": [],
            "source": "df_coords = pd.DataFrame(coords, columns=['Latitude', 'Longitude'])"
        },
        {
            "cell_type": "code",
            "execution_count": null,
            "metadata": {},
            "outputs": [],
            "source": "paris['Latitude'] = df_coords['Latitude']\nparis['Longitude'] = df_coords['Longitude']"
        },
        {
            "cell_type": "code",
            "execution_count": null,
            "metadata": {},
            "outputs": [],
            "source": "print(paris.shape)\nparis.head()"
        },
        {
            "cell_type": "markdown",
            "metadata": {},
            "source": "#### Create and push data into a new csv file "
        },
        {
            "cell_type": "code",
            "execution_count": null,
            "metadata": {},
            "outputs": [],
            "source": "paris.to_csv('Par_df.csv', index=False)"
        },
        {
            "cell_type": "code",
            "execution_count": null,
            "metadata": {},
            "outputs": [],
            "source": "address = 'Paris, FR'\n\ngeolocator = Nominatim(user_agent='my-application')\nlocation = geolocator.geocode(address)\nlatitude = location.latitude\nlongitude = location.longitude\nprint('Geo coordinates of Paris, FR {}, {}.'.format(latitude, longitude))\n"
        },
        {
            "cell_type": "markdown",
            "metadata": {},
            "source": "#### Find the center cooordinates of Atlanta GA, and create a map with folium contaning coordinates from DataFrame"
        },
        {
            "cell_type": "code",
            "execution_count": null,
            "metadata": {
                "scrolled": true
            },
            "outputs": [],
            "source": "Par_map = folium.Map(location=[latitude, longitude], zoom_start=11)\n\nfor lat, lng, neighborhood in zip(Par_df['Latitude'], Par_df['Longitude'], Par_df['Neighborhood']):\n    label = '{}'.format(neighborhood)\n    label = folium.Popup(label, parse_html=True)\n    folium.CircleMarker(\n        [lat, lng],\n        radius=5,\n        popup=label,\n        color='blue',\n        fill=True,\n        fill_color='#3186cc',\n        fill_opacity=0.7).add_to(Par_map)  \n    \nPar_map"
        },
        {
            "cell_type": "code",
            "execution_count": null,
            "metadata": {},
            "outputs": [],
            "source": "Atl_map.save('Atl_map.html')"
        },
        {
            "cell_type": "markdown",
            "metadata": {},
            "source": "#### Enter Credentials from FourSquare "
        },
        {
            "cell_type": "code",
            "execution_count": null,
            "metadata": {},
            "outputs": [],
            "source": "CLIENT_ID = 'U4KD030Y4D1W4KHOW2TIKATHHUT4Z1NS2XR1T5FHYHTMCMPZ'\nCLIENT_SECRET = 'AZUKDNM2EGIRD1PPR5DVQY114QXGWTAJUTN00Q5ABI0TBFF0' \nVERSION = '20180604'\n\nLIMIT = 30\n\nprint('Your credentails:')\nprint('CLIENT_ID: ' + CLIENT_ID)"
        },
        {
            "cell_type": "markdown",
            "metadata": {},
            "source": "#### Pull Venue Data from FourSquare for neighborhood coordinates"
        },
        {
            "cell_type": "code",
            "execution_count": null,
            "metadata": {},
            "outputs": [],
            "source": "radius = 1000\nLIMIT = 100\n\nvenues = []\n\nfor lat, long, neighborhood in zip(Atl_df['Latitude'], Atl_df['Longitude'], Atl_df['Neighborhood']): \n    url = 'https://api.foursquare.com/v2/venues/explore?client_id={}&client_secret={}&v={}&ll={},{}&radius={}&limit={}'.format(\n        CLIENT_ID,\n        CLIENT_SECRET,\n        VERSION,\n        lat,\n        long,\n        radius, \n        LIMIT)\n    \n    results = requests.get(url).json()['response']['groups'][0]['items']\n    \n    for venue in results:\n        venues.append((\n            neighborhood,\n            lat, \n            long, \n            venue['venue']['name'], \n            venue['venue']['location']['lat'], \n            venue['venue']['location']['lng'],  \n            venue['venue']['categories'][0]['name']))"
        },
        {
            "cell_type": "code",
            "execution_count": null,
            "metadata": {},
            "outputs": [],
            "source": "venues_df = pd.DataFrame(venues)\n\nvenues_df.columns = ['Neighborhood', 'Latitude', 'Longitude', 'VenueName', 'VenueLatitude', 'VenueLongitude', 'VenueCategory']\ndf_na = venues_df['Neighborhood'] != 'Na'\nvenues_df = venues_df[df_na]\nprint(venues_df.shape)\nvenues_df.head()"
        },
        {
            "cell_type": "code",
            "execution_count": null,
            "metadata": {},
            "outputs": [],
            "source": "venues_df.tail()"
        },
        {
            "cell_type": "code",
            "execution_count": null,
            "metadata": {},
            "outputs": [],
            "source": "venues_df.groupby(['Neighborhood']).count()\n\n"
        },
        {
            "cell_type": "code",
            "execution_count": null,
            "metadata": {},
            "outputs": [],
            "source": "print('There are {} unique categories.'.format(len(venues_df['VenueCategory'].unique())))\n"
        },
        {
            "cell_type": "code",
            "execution_count": null,
            "metadata": {},
            "outputs": [],
            "source": "venues_df['VenueCategory'].unique()[:]"
        },
        {
            "cell_type": "code",
            "execution_count": null,
            "metadata": {},
            "outputs": [],
            "source": "'Furniture / Home Store' in venues_df['VenueCategory'].unique()"
        },
        {
            "cell_type": "code",
            "execution_count": null,
            "metadata": {},
            "outputs": [],
            "source": "atl_hot = pd.get_dummies(venues_df[['VenueCategory']], prefix=\"\", prefix_sep=\"\")\n\natl_hot['Neighborhoods'] = venues_df['Neighborhood'] \n\nfixed_columns = [atl_hot.columns[-1]] + list(atl_hot.columns[:-1])\natl_hot = atl_hot[fixed_columns]\n\nprint(atl_hot.shape)\natl_hot.head()\n"
        },
        {
            "cell_type": "code",
            "execution_count": null,
            "metadata": {},
            "outputs": [],
            "source": ""
        },
        {
            "cell_type": "code",
            "execution_count": null,
            "metadata": {},
            "outputs": [],
            "source": "atl_hot.tail()"
        },
        {
            "cell_type": "code",
            "execution_count": null,
            "metadata": {},
            "outputs": [],
            "source": ""
        },
        {
            "cell_type": "code",
            "execution_count": null,
            "metadata": {},
            "outputs": [],
            "source": "atl_hot_grouped = atl_hot.groupby(['Neighborhoods']).mean().reset_index()\n\nprint(atl_hot_grouped.shape)\natl_hot_grouped\n"
        },
        {
            "cell_type": "code",
            "execution_count": null,
            "metadata": {},
            "outputs": [],
            "source": ""
        },
        {
            "cell_type": "markdown",
            "metadata": {},
            "source": "#### Determine the number of Furniture Stores, isolate the stores and compare to areas with anituques, prepare data for clustering"
        },
        {
            "cell_type": "code",
            "execution_count": null,
            "metadata": {},
            "outputs": [],
            "source": "len(atl_hot_grouped[atl_hot_grouped['Furniture / Home Store'] > 0])"
        },
        {
            "cell_type": "code",
            "execution_count": null,
            "metadata": {},
            "outputs": [],
            "source": "atl_furniture = atl_hot_grouped[['Neighborhoods','Furniture / Home Store','Antique Shop']]"
        },
        {
            "cell_type": "code",
            "execution_count": null,
            "metadata": {},
            "outputs": [],
            "source": "atl_furniture_group = atl_furniture.groupby(['Neighborhoods']).mean().reset_index()\natl_furniture_group"
        },
        {
            "cell_type": "markdown",
            "metadata": {},
            "source": "#### Cluster Furnture Store Data "
        },
        {
            "cell_type": "code",
            "execution_count": null,
            "metadata": {},
            "outputs": [],
            "source": "kclusters = 9\n\natl_clustering = atl_furniture_group.drop(['Neighborhoods'], 1)\n\nkmeans = KMeans(n_clusters=kclusters, random_state=0).fit(atl_clustering)\n\nkmeans.labels_[1:121]"
        },
        {
            "cell_type": "code",
            "execution_count": null,
            "metadata": {},
            "outputs": [],
            "source": "atl_merged = atl_furniture_group.copy()\n\natl_merged['Cluster Labels'] = kmeans.labels_"
        },
        {
            "cell_type": "markdown",
            "metadata": {},
            "source": "#### Add Cluster Labels to Data"
        },
        {
            "cell_type": "code",
            "execution_count": null,
            "metadata": {},
            "outputs": [],
            "source": "atl_merged.groupby(['Cluster Labels'], as_index=False)['Furniture / Home Store'].mean()\natl_merged"
        },
        {
            "cell_type": "markdown",
            "metadata": {},
            "source": "#### Clusters that have Antique Shops"
        },
        {
            "cell_type": "code",
            "execution_count": null,
            "metadata": {},
            "outputs": [],
            "source": "f_atl = atl_merged['Antique Shop'] != 0\natl_merged[f_atl]"
        },
        {
            "cell_type": "code",
            "execution_count": null,
            "metadata": {},
            "outputs": [],
            "source": "atl_merged.rename(columns={'Neighborhoods': 'Neighborhood'}, inplace=True)\natl_merged.head()"
        },
        {
            "cell_type": "code",
            "execution_count": null,
            "metadata": {},
            "outputs": [],
            "source": "atl_merged = atl_merged.join(venues_df.set_index('Neighborhood'), on='Neighborhood')\n\natl_merged.shape\natl_merged.head()"
        },
        {
            "cell_type": "code",
            "execution_count": null,
            "metadata": {},
            "outputs": [],
            "source": "print(atl_merged.shape)\natl_merged.sort_values(['Cluster Labels'], inplace=True)\n"
        },
        {
            "cell_type": "markdown",
            "metadata": {},
            "source": "#### Plot Map of Clusters, color coded"
        },
        {
            "cell_type": "code",
            "execution_count": null,
            "metadata": {
                "scrolled": true
            },
            "outputs": [],
            "source": "atl_map_clusters = folium.Map(location=[latitude, longitude], zoom_start=11)\n\nx = np.arange(kclusters)\nys = [i+x+(i*x)**2 for i in range(kclusters)]\ncolors_array = cm.rainbow(np.linspace(0, 1, len(ys)))\nrainbow = [colors.rgb2hex(i) for i in colors_array]\n\nmarkers_colors = []\nfor lat, lon, poi, cluster in zip(atl_merged['Latitude'], atl_merged['Longitude'], atl_merged['Neighborhood'], atl_merged['Cluster Labels']):\n    label = folium.Popup(str(poi) + ' - Cluster ' + str(cluster), parse_html=True)\n    folium.CircleMarker(\n        [lat, lon],\n        radius=5,\n        popup=label,\n        color=rainbow[cluster-1],\n        fill=True,\n        fill_color=rainbow[cluster-1],\n        fill_opacity=0.7).add_to(atl_map_clusters)\n       \natl_map_clusters"
        },
        {
            "cell_type": "code",
            "execution_count": null,
            "metadata": {},
            "outputs": [],
            "source": "atl_map_clusters.save('atl_map.html')"
        },
        {
            "cell_type": "code",
            "execution_count": null,
            "metadata": {},
            "outputs": [],
            "source": "atl_merged.groupby(['Cluster Labels'], as_index=False)['Furniture / Home Store'].mean()"
        },
        {
            "cell_type": "code",
            "execution_count": null,
            "metadata": {},
            "outputs": [],
            "source": "top_neigh = atl_hot_grouped[atl_hot_grouped['Furniture / Home Store'] != 0 ]"
        },
        {
            "cell_type": "markdown",
            "metadata": {},
            "source": "#### Rank Furniture Stores in city = 20 most frequent"
        },
        {
            "cell_type": "code",
            "execution_count": null,
            "metadata": {},
            "outputs": [],
            "source": "num_top_venues = 25\n\n#for neigh in top_neigh['Neighborhoods']:\n    #print(\"----\"+neigh+\"----\")\ntemp = top_neigh[top_neigh['Neighborhoods'] == neigh].T.reset_index()\ntemp.columns = ['venue','freq']\ntemp = temp.iloc[1:]\ntemp['freq'] = temp['freq'].astype(float)\ntemp = temp.round({'freq': 2})\nprint(temp.sort_values('freq', ascending=False).reset_index(drop=True).head(num_top_venues))\nprint('\\n')\n    "
        },
        {
            "cell_type": "markdown",
            "metadata": {},
            "source": "#### Neighborhoods with No Furniture Home Stores and No Antique Stores\n"
        },
        {
            "cell_type": "code",
            "execution_count": null,
            "metadata": {},
            "outputs": [],
            "source": "atl_merged.loc[atl_merged['Cluster Labels'] == 0].groupby(['Neighborhood'], as_index=False)['Furniture / Home Store'].sum()\n"
        },
        {
            "cell_type": "markdown",
            "metadata": {},
            "source": "#### All Furniture Stores in Atlanta "
        },
        {
            "cell_type": "code",
            "execution_count": null,
            "metadata": {},
            "outputs": [],
            "source": "df2 = atl_merged['VenueCategory'] == 'Furniture / Home Store'\natl_all_furn = atl_merged[df2].sort_values(['Cluster Labels'])\natl_all_furn"
        },
        {
            "cell_type": "code",
            "execution_count": null,
            "metadata": {},
            "outputs": [],
            "source": "atl_merged.loc[atl_merged['Cluster Labels'] == 1].groupby(['Neighborhood'], as_index=False)['Furniture / Home Store'].sum()"
        },
        {
            "cell_type": "markdown",
            "metadata": {},
            "source": "#### Only one store in North Buckhead"
        },
        {
            "cell_type": "code",
            "execution_count": null,
            "metadata": {},
            "outputs": [],
            "source": "atl_merged.loc[atl_merged['Cluster Labels'] == 3].groupby(['Neighborhood'], as_index=False)['Furniture / Home Store'].sum()"
        },
        {
            "cell_type": "markdown",
            "metadata": {},
            "source": "#### Cluster 4 has 11 neighborhoods with Furniture Stores"
        },
        {
            "cell_type": "code",
            "execution_count": null,
            "metadata": {},
            "outputs": [],
            "source": "v4 = atl_merged.loc[atl_merged['Cluster Labels'] == 4].groupby(['Neighborhood'], as_index=False)['Furniture / Home Store'].sum()\nv4"
        },
        {
            "cell_type": "code",
            "execution_count": null,
            "metadata": {},
            "outputs": [],
            "source": "v4['Furniture / Home Store'].sum()"
        },
        {
            "cell_type": "code",
            "execution_count": null,
            "metadata": {},
            "outputs": [],
            "source": "v5 = atl_merged.loc[atl_merged['Cluster Labels'] == 5].groupby(['Neighborhood'], as_index=False)['Furniture / Home Store'].sum()\nv5"
        },
        {
            "cell_type": "code",
            "execution_count": null,
            "metadata": {},
            "outputs": [],
            "source": "v5['Furniture / Home Store'].sum()"
        },
        {
            "cell_type": "code",
            "execution_count": null,
            "metadata": {},
            "outputs": [],
            "source": "atl_merged.loc[atl_merged['Cluster Labels'] == 6].groupby(['Neighborhood'], as_index=False)['Furniture / Home Store'].sum()"
        },
        {
            "cell_type": "code",
            "execution_count": null,
            "metadata": {},
            "outputs": [],
            "source": "atl_merged.loc[atl_merged['Cluster Labels'] == 7].groupby(['Neighborhood'], as_index=False)['Furniture / Home Store'].sum()"
        },
        {
            "cell_type": "markdown",
            "metadata": {},
            "source": "#### Cluster 7 has 3 neighboorhoods with 10 stores, the detail of each location is below"
        },
        {
            "cell_type": "code",
            "execution_count": null,
            "metadata": {},
            "outputs": [],
            "source": "v7 = atl_all_furn['Cluster Labels'] == 7\natl_all_furn[v7]"
        },
        {
            "cell_type": "markdown",
            "metadata": {},
            "source": "#### Cluster 8 has high numbers too"
        },
        {
            "cell_type": "code",
            "execution_count": null,
            "metadata": {},
            "outputs": [],
            "source": "atl_merged.loc[atl_merged['Cluster Labels'] == 8].groupby(['Neighborhood'], as_index=False)['Furniture / Home Store'].sum()"
        },
        {
            "cell_type": "code",
            "execution_count": null,
            "metadata": {},
            "outputs": [],
            "source": "v8 = atl_all_furn['Cluster Labels'] == 8\natl_all_furn[v8]"
        },
        {
            "cell_type": "code",
            "execution_count": null,
            "metadata": {},
            "outputs": [],
            "source": "atl_merged.loc[atl_merged['Cluster Labels'] == 9].groupby(['Neighborhood'], as_index=False)['Furniture / Home Store'].sum()"
        },
        {
            "cell_type": "markdown",
            "metadata": {},
            "source": "#### 9 has none "
        },
        {
            "cell_type": "code",
            "execution_count": null,
            "metadata": {},
            "outputs": [],
            "source": ""
        },
        {
            "cell_type": "code",
            "execution_count": null,
            "metadata": {},
            "outputs": [],
            "source": ""
        }
    ],
    "metadata": {
        "kernelspec": {
            "display_name": "Python 3.6",
            "language": "python",
            "name": "python3"
        },
        "language_info": {
            "codemirror_mode": {
                "name": "ipython",
                "version": 3
            },
            "file_extension": ".py",
            "mimetype": "text/x-python",
            "name": "python",
            "nbconvert_exporter": "python",
            "pygments_lexer": "ipython3",
            "version": "3.6.9"
        }
    },
    "nbformat": 4,
    "nbformat_minor": 4
}